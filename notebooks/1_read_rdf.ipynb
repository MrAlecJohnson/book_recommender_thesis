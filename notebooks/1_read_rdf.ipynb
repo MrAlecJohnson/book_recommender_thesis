{
 "cells": [
  {
   "cell_type": "markdown",
   "metadata": {},
   "source": [
    "# 1. Get a list of English-language fiction on Gutenberg\n",
    "First [download Gutenberg's metadata catalogue](https://www.gutenberg.org/wiki/Gutenberg:Feeds). Unzip this into a folder and specify that location as catalogue_dir below.\n",
    "\n",
    "Then run this notebook. It will produce a dataframe showing the catalogue number, title, authors and keywords for all the books available in English that have 'fiction' somewhere in their keywords."
   ]
  },
  {
   "cell_type": "code",
   "execution_count": null,
   "metadata": {},
   "outputs": [],
   "source": [
    "import pickle\n",
    "import pandas as pd\n",
    "\n",
    "from tqdm import tqdm\n",
    "from pathlib import Path\n",
    "from bs4 import BeautifulSoup\n",
    "\n",
    "catalogue_dir = Path.cwd().parent / \"data\" / \"gutenberg_catalogue\"\n",
    "\n",
    "# read the rdfs and combine them into a single-file index\n",
    "files = [path for path in catalogue_dir.rglob('*.rdf')]\n",
    "len(files)"
   ]
  },
  {
   "cell_type": "code",
   "execution_count": null,
   "metadata": {},
   "outputs": [],
   "source": [
    "# Find books in English with the word 'fiction' in their subject tags\n",
    "results = []\n",
    "for entry in tqdm(range(len(files))):\n",
    "    with open(files[entry], encoding = 'utf8') as f:\n",
    "        # Parse each metadata rdf file with BeautifulSoup\n",
    "        doc = BeautifulSoup(f, \"xml\")\n",
    "        \n",
    "        # Get the language and subject data for each file\n",
    "        subjects = [s.find(\"rdf:value\").text for s in doc.find_all(\"subject\")]\n",
    "        languages = [a.text.strip() for a in doc.find_all(\"language\")]\n",
    "        \n",
    "        # Filter to English-language fiction and add to the results list\n",
    "        if \"en\" in languages and \"fiction\" in \" \".join(subjects).lower():\n",
    "            links = [link.attrs[\"rdf:about\"] for link in doc.find_all(\"file\")]\n",
    "            results.append({\n",
    "                \"catalogue_number\": doc.find(\"ebook\").attrs[\"rdf:about\"].lstrip(\"ebooks/\"),\n",
    "                \"title\": doc.find(\"dcterms:title\").text,\n",
    "                \"authors\": [name.text for name in doc.find_all(\"name\")],\n",
    "                \"subjects\": subjects, \n",
    "            })\n",
    "\n",
    "books = pd.DataFrame(results)\n",
    "books.to_pickle(catalogue_dir.parent / \"english_fiction.pkl\")\n",
    "\n",
    "books.head()"
   ]
  },
  {
   "cell_type": "code",
   "execution_count": null,
   "metadata": {},
   "outputs": [],
   "source": []
  }
 ],
 "metadata": {
  "kernelspec": {
   "display_name": "Python 3.8.5 64-bit ('msc-project': venv)",
   "language": "python",
   "name": "python38564bitmscprojectvenv7ab5a66a7eea4b2bad0897438e4f558f"
  },
  "language_info": {
   "codemirror_mode": {
    "name": "ipython",
    "version": 3
   },
   "file_extension": ".py",
   "mimetype": "text/x-python",
   "name": "python",
   "nbconvert_exporter": "python",
   "pygments_lexer": "ipython3",
   "version": "3.8.5"
  }
 },
 "nbformat": 4,
 "nbformat_minor": 4
}
