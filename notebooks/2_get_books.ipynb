{
 "cells": [
  {
   "cell_type": "markdown",
   "metadata": {},
   "source": [
    "# 2. Download text for the relevant books\n",
    "This makes a list of all the English language text download links on Gutenberg, then merges it with the list of English-language fiction produced in stage 1.\n",
    "\n",
    "Follows Project Gutenberg's [robot readme rules](http://www.gutenberg.org/policy/robot_access.html).\n"
   ]
  },
  {
   "cell_type": "code",
   "execution_count": null,
   "metadata": {},
   "outputs": [],
   "source": [
    "import requests\n",
    "import pickle\n",
    "import zipfile\n",
    "import io\n",
    "import sys\n",
    "import pandas as pd\n",
    "\n",
    "from bs4 import BeautifulSoup\n",
    "from pathlib import Path\n",
    "from multiprocessing.dummy import Pool "
   ]
  },
  {
   "cell_type": "code",
   "execution_count": null,
   "metadata": {},
   "outputs": [],
   "source": [
    "# Starting page for getting download links from Project Gutenberg\n",
    "url = 'http://www.gutenberg.org/robot/harvest?filetypes[]=txt&langs[]=en'\n",
    "\n",
    "links = []\n",
    "while True:\n",
    "    # Get the page content and parse with BeautifulSoup\n",
    "    page = requests.get(url, timeout=15)\n",
    "    content = BeautifulSoup(page.text, \"lxml\")\n",
    "    \n",
    "    # Find all the book urls on the page\n",
    "    urls = [e.get('href') for e in content.select(\"body > p > a[href^='http://aleph.gutenberg.org/']\")]\n",
    "    if urls:\n",
    "        links.extend(urls)\n",
    "    \n",
    "    # Check if there's a 'Next page' button - if there is, visit it and repeat\n",
    "    next_page = content.find('a', string='Next Page')\n",
    "    if next_page:\n",
    "        url = \"http://www.gutenberg.org/robot/\" + next_page.get(\"href\")\n",
    "    else:\n",
    "        break\n",
    "\n",
    "print(len(links))"
   ]
  },
  {
   "cell_type": "code",
   "execution_count": null,
   "metadata": {},
   "outputs": [],
   "source": [
    "# Load the dataframe of books from the previous notebook - this has catalogue numbers\n",
    "data_dir = Path.cwd().parent / \"data\"\n",
    "books = pd.read_pickle(data_dir / \"english_fiction.pkl\")\n",
    "\n",
    "# Work out catalogue numbers from the new list of download urls and make it a dataframe\n",
    "link_ids = [(url[url.rfind(\"/\") + 1:-4], url) for url in links]\n",
    "link_ids = pd.DataFrame(link_ids, columns=[\"catalogue_number\", \"download\"])\n",
    "\n",
    "# Merge the two dataframes\n",
    "books = books.merge(link_ids, how=\"inner\", on=\"catalogue_number\")"
   ]
  },
  {
   "cell_type": "code",
   "execution_count": null,
   "metadata": {},
   "outputs": [],
   "source": [
    "# Open a multiprocessing pool and download all the books from the merged list\n",
    "pool = Pool(4) \n",
    "book_links = books[\"download\"].tolist()\n",
    "storage = data_dir / \"gutenberg_text\"\n",
    "\n",
    "def get_book(url):\n",
    "    try:\n",
    "        response = requests.get(url)\n",
    "        file = zipfile.ZipFile(io.BytesIO(response.content))\n",
    "        file.extractall(storage)\n",
    "    except:\n",
    "        problems.append([url, sys.exc_info()[0]])    \n",
    "        \n",
    "pool.map(get_book, book_links)\n",
    "\n",
    "pool.close()\n",
    "pool.join()"
   ]
  },
  {
   "cell_type": "code",
   "execution_count": null,
   "metadata": {},
   "outputs": [],
   "source": []
  }
 ],
 "metadata": {
  "kernelspec": {
   "display_name": "Python 3.8.5 64-bit ('msc-project': venv)",
   "language": "python",
   "name": "python38564bitmscprojectvenv7ab5a66a7eea4b2bad0897438e4f558f"
  },
  "language_info": {
   "codemirror_mode": {
    "name": "ipython",
    "version": 3
   },
   "file_extension": ".py",
   "mimetype": "text/x-python",
   "name": "python",
   "nbconvert_exporter": "python",
   "pygments_lexer": "ipython3",
   "version": "3.8.5"
  }
 },
 "nbformat": 4,
 "nbformat_minor": 4
}
