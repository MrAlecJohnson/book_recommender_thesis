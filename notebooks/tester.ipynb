{
 "cells": [
  {
   "cell_type": "markdown",
   "metadata": {},
   "source": [
    "# Test notebook\n",
    "This is purely for me to experiment with code while working on the project."
   ]
  },
  {
   "cell_type": "code",
   "execution_count": null,
   "metadata": {},
   "outputs": [],
   "source": [
    "import sys\n",
    "\n",
    "from pathlib import Path\n",
    "\n",
    "# My modules\n",
    "modules = str(Path.cwd().parent / \"modules\")\n",
    "tests = str(Path.cwd().parent / \"tests\")\n",
    "\n",
    "if modules not in sys.path:\n",
    "    sys.path.append(modules)\n",
    "if tests not in sys.path:\n",
    "    sys.path.append(tests)\n",
    "    \n",
    "import load_data"
   ]
  },
  {
   "cell_type": "code",
   "execution_count": null,
   "metadata": {},
   "outputs": [],
   "source": [
    "ratings = load_data.trim_ratings(\n",
    "    load_data.ratings_data(location=Path.cwd().parent/\"data\"), 10, 5\n",
    ")\n",
    "ratings[\"recommend\"] = load_data.set_threshold(ratings, 4)"
   ]
  },
  {
   "cell_type": "code",
   "execution_count": null,
   "metadata": {},
   "outputs": [],
   "source": [
    "ratings[\"user_id\"].nunique()"
   ]
  },
  {
   "cell_type": "code",
   "execution_count": null,
   "metadata": {},
   "outputs": [],
   "source": [
    "ratings[\"book_id\"].nunique()"
   ]
  },
  {
   "cell_type": "code",
   "execution_count": null,
   "metadata": {},
   "outputs": [],
   "source": [
    "ratings[ratings[\"rating\"] >= 4]"
   ]
  },
  {
   "cell_type": "code",
   "execution_count": null,
   "metadata": {},
   "outputs": [],
   "source": [
    "user_rating_counts = ratings.pivot_table(\n",
    "        index=\"user_id\", columns=\"recommend\", aggfunc=\"size\", fill_value=0\n",
    "    )\n",
    "\n",
    "user_rating_counts[\"proportion\"] = user_rating_counts[True] / (\n",
    "        user_rating_counts[True] + user_rating_counts[False]\n",
    "    )\n",
    "user_rating_counts"
   ]
  },
  {
   "cell_type": "code",
   "execution_count": null,
   "metadata": {},
   "outputs": [],
   "source": [
    "user_rating_counts[False][user_rating_counts[True] == 0].sum()"
   ]
  },
  {
   "cell_type": "code",
   "execution_count": null,
   "metadata": {},
   "outputs": [],
   "source": [
    "reduced = load_data.set_class_proportions(ratings, 0.2, 0.8)\n",
    "reduced"
   ]
  },
  {
   "cell_type": "code",
   "execution_count": null,
   "metadata": {},
   "outputs": [],
   "source": [
    "reduced[\"book_id\"].nunique()"
   ]
  },
  {
   "cell_type": "code",
   "execution_count": null,
   "metadata": {},
   "outputs": [],
   "source": [
    "import spacy\n",
    "sp = spacy.load('en_core_web_lg')\n",
    "\n",
    "sp.Defaults.stop_words\n"
   ]
  },
  {
   "cell_type": "code",
   "execution_count": null,
   "metadata": {},
   "outputs": [],
   "source": []
  }
 ],
 "metadata": {
  "kernelspec": {
   "display_name": "Python 3",
   "language": "python",
   "name": "python3"
  },
  "language_info": {
   "codemirror_mode": {
    "name": "ipython",
    "version": 3
   },
   "file_extension": ".py",
   "mimetype": "text/x-python",
   "name": "python",
   "nbconvert_exporter": "python",
   "pygments_lexer": "ipython3",
   "version": "3.8.5"
  }
 },
 "nbformat": 4,
 "nbformat_minor": 4
}
