{
 "cells": [
  {
   "cell_type": "markdown",
   "metadata": {},
   "source": [
    "# 5. Set up an SQLite database for storing user ratings\n",
    "This just prepares the database - the next stage adds ratings to it"
   ]
  },
  {
   "cell_type": "code",
   "execution_count": null,
   "metadata": {},
   "outputs": [],
   "source": [
    "import sqlite3\n",
    "\n",
    "from pathlib import Path\n",
    "\n",
    "conn = sqlite3.connect(Path.cwd().parent / \"data/book_ratings.db\")"
   ]
  },
  {
   "cell_type": "code",
   "execution_count": null,
   "metadata": {},
   "outputs": [],
   "source": [
    "# Create the database\n",
    "conn.execute(\"\"\"CREATE TABLE IF NOT EXISTS book_ratings\n",
    "         (book_id    INT    NOT NULL,\n",
    "         user_id    INT    NOT NULL,\n",
    "         rating     INT   NOT NULL,\n",
    "         PRIMARY KEY(book_id, user_id));\"\"\")"
   ]
  },
  {
   "cell_type": "code",
   "execution_count": null,
   "metadata": {},
   "outputs": [],
   "source": [
    "# Test adding a row\n",
    "conn.execute(\"REPLACE INTO BOOK_RATINGS (BOOK_ID, USER_ID, RATING) \\\n",
    "            VALUES (100, 200, 3)\");"
   ]
  },
  {
   "cell_type": "code",
   "execution_count": null,
   "metadata": {},
   "outputs": [],
   "source": [
    "# Test selecting data\n",
    "select = conn.execute(\"SELECT * from BOOK_RATINGS\")\n",
    "print(\"book_id\".ljust(15), \"user_id\".ljust(15), \"rating\")\n",
    "for row in select:\n",
    "    print(str(row[0]).ljust(15), str(row[1]).ljust(15), str(row[2]))"
   ]
  },
  {
   "cell_type": "code",
   "execution_count": null,
   "metadata": {},
   "outputs": [],
   "source": [
    "# Remove the test row and save the empty database\n",
    "conn.execute(\"DELETE from BOOK_RATINGS where book_id = 100;\")\n",
    "conn.commit()\n",
    "conn.close()"
   ]
  },
  {
   "cell_type": "code",
   "execution_count": null,
   "metadata": {},
   "outputs": [],
   "source": []
  }
 ],
 "metadata": {
  "kernelspec": {
   "display_name": "Python 3.8.5 64-bit ('msc-project': venv)",
   "language": "python",
   "name": "python38564bitmscprojectvenv7ab5a66a7eea4b2bad0897438e4f558f"
  },
  "language_info": {
   "codemirror_mode": {
    "name": "ipython",
    "version": 3
   },
   "file_extension": ".py",
   "mimetype": "text/x-python",
   "name": "python",
   "nbconvert_exporter": "python",
   "pygments_lexer": "ipython3",
   "version": "3.8.5"
  }
 },
 "nbformat": 4,
 "nbformat_minor": 4
}
