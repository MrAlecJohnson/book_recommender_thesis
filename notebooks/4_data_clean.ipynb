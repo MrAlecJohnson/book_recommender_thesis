{
 "cells": [
  {
   "cell_type": "markdown",
   "metadata": {},
   "source": [
    "# 4. Clean the data\n",
    "This checks the links between Gutenberg text and Goodreads data, and drops books that don't match. This trimmed down data becomes the main book list for the project."
   ]
  },
  {
   "cell_type": "code",
   "execution_count": null,
   "metadata": {},
   "outputs": [],
   "source": [
    "import re\n",
    "import pandas as pd\n",
    "\n",
    "from pathlib import Path\n",
    "\n",
    "data_dir = Path.cwd().parent / \"data\"\n",
    "fiction = pd.read_csv(data_dir / \"book_data_full.csv\").sort_values(\"Catalogue number\")\n",
    "print(fiction.shape)\n",
    "\n",
    "# REMOVALS\n",
    "# Remove anything with no reviews on Goodreads\n",
    "fiction = fiction[fiction['Review count'] >= 1]\n",
    "print(fiction.shape)\n",
    "\n",
    "# Remove anything with no author on Gutenberg\n",
    "fiction = fiction[fiction['Gutenberg author'].notnull()]\n",
    "print(fiction.shape)\n",
    "\n",
    "# Find duplicates in Gutenberg and keep higher catalogue number\n",
    "# Higher catalogue number usually means a corrected text\n",
    "fiction.drop_duplicates(\n",
    "    subset=[\"Gutenberg title\", \"Gutenberg author\"], \n",
    "    keep=\"last\",\n",
    "    inplace=True)\n",
    "print(fiction.shape)\n",
    "\n",
    "# Find duplicates in Goodreads and keep higher Gutenberg catalogue number\n",
    "fiction.drop_duplicates(\n",
    "    subset=[\"Goodreads title\", \"Goodreads author\"], \n",
    "    keep=\"last\",\n",
    "    inplace=True)\n",
    "print(fiction.shape)\n",
    "\n",
    "# EDITS \n",
    "# Remove series brackets from Goodreads titles\n",
    "fiction[\"Goodreads title\"] = fiction[\"Goodreads title\"].str.replace(\"\\(.*\\)\", \"\")\n",
    "\n",
    "# Remove line breaks from Gutenberg titles\n",
    "fiction[\"Gutenberg title\"] = fiction[\"Gutenberg title\"].str.replace(\"\\\\r\\\\n\", \" \")\n",
    "fiction[\"Gutenberg title\"] = fiction[\"Gutenberg title\"].str.replace(\"\\n\", \" \")"
   ]
  },
  {
   "cell_type": "code",
   "execution_count": null,
   "metadata": {},
   "outputs": [],
   "source": [
    "# Try to find where Goodreads title and author don't match Gutenberg\n",
    "# Start by counting the number of matching words in the author and title fields\n",
    "punctuation = re.compile(\"[^\\w\\s]\")\n",
    "def word_matches(x1, x2):\n",
    "    x1_edit = re.sub(punctuation, \" \", x1.lower())\n",
    "    x1_split = set([w for w in x1_edit.split(\" \") if len(w) > 1])\n",
    "    x2_edit = re.sub(punctuation, \" \", x2.lower())\n",
    "    x2_split = set([w for w in x2_edit.split(\" \") if len(w) > 1])\n",
    "    return len(x1_split & x2_split)\n",
    "\n",
    "fiction['Name matches'] = fiction.apply(\n",
    "    lambda row: word_matches(\n",
    "        row[\"Goodreads author\"], \n",
    "        row[\"Gutenberg author\"]), axis=1)\n",
    "\n",
    "fiction['Title matches'] = fiction.apply(\n",
    "    lambda row: word_matches(\n",
    "        row[\"Goodreads title\"], \n",
    "        row[\"Gutenberg title\"]), axis=1)"
   ]
  },
  {
   "cell_type": "code",
   "execution_count": null,
   "metadata": {},
   "outputs": [],
   "source": [
    "# Require at least one matching word in title and one in author\n",
    "# Loose requirement as often the same book is listed with variant titles or author spelling\n",
    "# Reasonable chance of losing some authors, for example based on accents in names\n",
    "# But this is fine - there are thousands of books here and losing some is no problem\n",
    "fiction = fiction[(fiction[\"Name matches\"] > 0) & (fiction[\"Title matches\"] > 0)]\n",
    "fiction.shape"
   ]
  },
  {
   "cell_type": "code",
   "execution_count": null,
   "metadata": {},
   "outputs": [],
   "source": [
    "fiction.to_csv(data_dir / \"book_data_cut.csv\", index=False)"
   ]
  },
  {
   "cell_type": "code",
   "execution_count": null,
   "metadata": {},
   "outputs": [],
   "source": []
  }
 ],
 "metadata": {
  "kernelspec": {
   "display_name": "Python 3.8.5 64-bit ('msc-project': venv)",
   "language": "python",
   "name": "python38564bitmscprojectvenv7ab5a66a7eea4b2bad0897438e4f558f"
  },
  "language_info": {
   "codemirror_mode": {
    "name": "ipython",
    "version": 3
   },
   "file_extension": ".py",
   "mimetype": "text/x-python",
   "name": "python",
   "nbconvert_exporter": "python",
   "pygments_lexer": "ipython3",
   "version": "3.8.5"
  }
 },
 "nbformat": 4,
 "nbformat_minor": 4
}
