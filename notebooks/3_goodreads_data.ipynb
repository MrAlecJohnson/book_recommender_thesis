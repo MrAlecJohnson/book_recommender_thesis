{
 "cells": [
  {
   "cell_type": "markdown",
   "metadata": {},
   "source": [
    "# 3. Get basic data on the books from the Goodreads API\n",
    "This notebook gets basic book information from Goodreads, crucially including the Goodreads ID for each book. To run it you'll need to [request a Goodreads API key](https://www.goodreads.com/api).\n",
    "\n",
    "Adjust the path in the first cell to match wherever you keep your keys."
   ]
  },
  {
   "cell_type": "code",
   "execution_count": null,
   "metadata": {},
   "outputs": [],
   "source": [
    "import requests\n",
    "import time\n",
    "import csv\n",
    "import sys\n",
    "import pandas as pd\n",
    "\n",
    "from tqdm import tqdm\n",
    "from bs4 import BeautifulSoup\n",
    "from pathlib import Path\n",
    "\n",
    "with open(Path.cwd().parent.parent.parent / \"creds\" / \"goodreads\") as keyfile:\n",
    "    KEY = keyfile.readline()\n",
    "    SECRET = keyfile.readline()"
   ]
  },
  {
   "cell_type": "code",
   "execution_count": null,
   "metadata": {},
   "outputs": [],
   "source": [
    "data_dir = Path.cwd().parent / \"data\"\n",
    "\n",
    "# Get the data from Gutenberg\n",
    "books = pd.read_pickle(data_dir / \"english_fiction.pkl\")\n",
    "\n",
    "# Trim it down to just the books downloaded in stage 2.\n",
    "files = (data_dir / \"gutenberg_text\").glob('*.txt')\n",
    "ids = [(f.stem, f) for f in files]\n",
    "links = pd.DataFrame(ids, columns=[\"catalogue_number\", \"file\"])\n",
    "books = books.merge(links, how=\"inner\", on=\"catalogue_number\")\n",
    "len(books)"
   ]
  },
  {
   "cell_type": "code",
   "execution_count": null,
   "metadata": {},
   "outputs": [],
   "source": [
    "def find_author(path):\n",
    "    \"\"\"Tries to identify a Gutenberg book's author from its opening 100 lines\n",
    "    \"\"\"\n",
    "    lines_to_try = 100\n",
    "    f = open(path, \"r\", encoding=\"latin-1\")\n",
    "    while lines_to_try > 0: \n",
    "        try:\n",
    "            line = f.readline()\n",
    "            if line.startswith(\"Author:\"):\n",
    "                return line[8:].strip()\n",
    "            elif line.lower().startswith(\"by \"):\n",
    "                return line[3:].strip()\n",
    "            elif line.lower().startswith(\"Authors:\"):\n",
    "                return line[9:].strip()\n",
    "            else:\n",
    "                lines_to_try -= 1\n",
    "        except UnicodeDecodeError as e:\n",
    "            print(path)\n",
    "            print(e)\n",
    "\n",
    "    return None\n",
    "\n",
    "# Try to add author information to the dataframe of Gutenberg info\n",
    "books[\"author\"] = books[\"file\"].apply(find_author)"
   ]
  },
  {
   "cell_type": "code",
   "execution_count": null,
   "metadata": {},
   "outputs": [],
   "source": [
    "# Remove 'various authors' and remove the old authors column\n",
    "books = books[books[\"author\"] != \"Various\"]\n",
    "books.drop(\"authors\", axis=1, inplace=True)\n",
    "books.columns = [\n",
    "    \"Catalogue number\", \n",
    "    \"Gutenberg title\", \n",
    "    \"Subjects\", \n",
    "    \"File\", \n",
    "    \"Gutenberg author\"\n",
    "]\n",
    "\n",
    "to_run = books.to_dict(orient = \"records\")\n",
    "len(to_run)"
   ]
  },
  {
   "cell_type": "code",
   "execution_count": null,
   "metadata": {},
   "outputs": [],
   "source": [
    "def book_data(number, title, author, key, subjects, file):\n",
    "    \"\"\"Requests API info from Goodreads on a book, using title and author.\n",
    "    Combines the returned info with existing Gutenberg data.\n",
    "    Returns a tuple of combined fields.\n",
    "    \"\"\"\n",
    "    url = \"https://www.goodreads.com/search/index.xml\"\n",
    "    parameters = {\n",
    "        \"key\": key,\n",
    "        \"q\": title,\n",
    "        \"author\": author\n",
    "             }\n",
    "    # .work is a section of the returned data\n",
    "    data = BeautifulSoup(requests.get(url, params = parameters).text, 'xml').work\n",
    "    \n",
    "    # Wait for 1 sec after hitting api, to meet terms of service\n",
    "    time.sleep(1)\n",
    "    return ((\n",
    "        number,\n",
    "        title,\n",
    "        data.title.text,\n",
    "        data.best_book.id.text, \n",
    "        author,\n",
    "        data.author.find(\"name\").text,\n",
    "        data.author.id.text,\n",
    "        data.original_publication_year.text,\n",
    "        data.average_rating.text, \n",
    "        data.ratings_count.text,\n",
    "        data.text_reviews_count.text,\n",
    "        subjects,\n",
    "        file,\n",
    "    ))"
   ]
  },
  {
   "cell_type": "code",
   "execution_count": null,
   "metadata": {},
   "outputs": [],
   "source": [
    "# Cycle through all the books getting Goodreads data and adding to a new csv\n",
    "# Drop books not found on Goodreads\n",
    "columns = [\n",
    "    \"Catalogue number\",\n",
    "    \"Gutenberg title\",\n",
    "    \"Goodreads title\",\n",
    "    \"Goodreads ID\",\n",
    "    \"Gutenberg author\",\n",
    "    \"Goodreads author\",\n",
    "    \"Author ID\",\n",
    "    \"Publication year\",\n",
    "    \"Average rating\",\n",
    "    \"Review count\",\n",
    "    \"Text review count\",\n",
    "    \"Subjects\",\n",
    "    \"File\",\n",
    "    \"Name matches\",\n",
    "    \"Title matches\",\n",
    "]\n",
    "problems = []\n",
    "with open(data_dir / \"book_data_full.csv\", \"a\", newline=\"\", encoding=\"utf8\") as f:\n",
    "    writer = csv.writer(f)\n",
    "    writer.writerow(columns)\n",
    "    for book in tqdm(to_run):\n",
    "        try:\n",
    "            info = book_data(\n",
    "                book[\"Catalogue number\"], \n",
    "                book[\"Gutenberg title\"],\n",
    "                book[\"Gutenberg author\"],\n",
    "                KEY,\n",
    "                book[\"Subjects\"],\n",
    "                book[\"File\"]\n",
    "            )\n",
    "            writer.writerow(info)\n",
    "        except:\n",
    "            problems.append((book[\"Catalogue number\"], book[\"Gutenberg title\"], sys.exc_info()[0]))"
   ]
  },
  {
   "cell_type": "code",
   "execution_count": null,
   "metadata": {},
   "outputs": [],
   "source": []
  }
 ],
 "metadata": {
  "kernelspec": {
   "display_name": "Python 3.8.5 64-bit ('msc-project': venv)",
   "language": "python",
   "name": "python38564bitmscprojectvenv7ab5a66a7eea4b2bad0897438e4f558f"
  },
  "language_info": {
   "codemirror_mode": {
    "name": "ipython",
    "version": 3
   },
   "file_extension": ".py",
   "mimetype": "text/x-python",
   "name": "python",
   "nbconvert_exporter": "python",
   "pygments_lexer": "ipython3",
   "version": "3.8.5"
  }
 },
 "nbformat": 4,
 "nbformat_minor": 4
}
